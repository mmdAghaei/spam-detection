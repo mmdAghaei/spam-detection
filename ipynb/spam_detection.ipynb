{
  "cells": [
    {
      "cell_type": "markdown",
      "metadata": {
        "id": "gXpHhPyzTE4N"
      },
      "source": [
        "# Import Package"
      ]
    },
    {
      "cell_type": "code",
      "execution_count": 1,
      "metadata": {
        "id": "9F3teGDvfpvS"
      },
      "outputs": [],
      "source": [
        "import tensorflow as tf\n",
        "from tensorflow import keras\n",
        "from keras.layers import Dense,BatchNormalization,LSTM,Embedding\n",
        "from keras.preprocessing.sequence import pad_sequences\n",
        "from sklearn.preprocessing import LabelEncoder\n",
        "from sklearn.model_selection import train_test_split\n",
        "from tensorflow.keras.preprocessing.text import Tokenizer\n",
        "import pandas as pd\n",
        "import numpy as np"
      ]
    },
    {
      "cell_type": "markdown",
      "metadata": {
        "id": "6Emv7_pDTL0R"
      },
      "source": [
        "# Read Dataset"
      ]
    },
    {
      "cell_type": "code",
      "execution_count": 18,
      "metadata": {
        "colab": {
          "base_uri": "https://localhost:8080/"
        },
        "id": "fFYI6nscGG8t",
        "outputId": "56851824-f407-435f-f970-5736db96e74f"
      },
      "outputs": [
        {
          "name": "stdout",
          "output_type": "stream",
          "text": [
            "     v1                                                 v2\n",
            "0   ham  Go until jurong point, crazy.. Available only ...\n",
            "1   ham                      Ok lar... Joking wif u oni...\n",
            "2  spam  Free entry in 2 a wkly comp to win FA Cup fina...\n",
            "3   ham  U dun say so early hor... U c already then say...\n",
            "4   ham  Nah I don't think he goes to usf, he lives aro...\n"
          ]
        }
      ],
      "source": [
        "df = pd.read_csv(\"../dataset/spam.csv\",encoding='ISO-8859-1')\n",
        "df = df.drop([\"Unnamed: 2\",'Unnamed: 3',\"Unnamed: 4\"],axis = 1)\n",
        "print(df.head())"
      ]
    },
    {
      "cell_type": "markdown",
      "metadata": {
        "id": "IlU7NXsLTn7S"
      },
      "source": [
        "# Variable value"
      ]
    },
    {
      "cell_type": "code",
      "execution_count": 4,
      "metadata": {
        "id": "8pDTrjNDHWAs"
      },
      "outputs": [],
      "source": [
        "x = df[\"v2\"]\n",
        "y = df[\"v1\"]"
      ]
    },
    {
      "cell_type": "markdown",
      "metadata": {
        "id": "ujpMj4tJTo90"
      },
      "source": [
        "# Encoder Label"
      ]
    },
    {
      "cell_type": "code",
      "execution_count": 5,
      "metadata": {
        "id": "tVYQalk-IElY"
      },
      "outputs": [],
      "source": [
        "lebel_encoder = LabelEncoder()\n",
        "y = lebel_encoder.fit_transform(y)"
      ]
    },
    {
      "cell_type": "markdown",
      "metadata": {
        "id": "Hu3xHkTOTwoc"
      },
      "source": [
        "# Split Train and Test"
      ]
    },
    {
      "cell_type": "code",
      "execution_count": 7,
      "metadata": {
        "id": "9XFbTjhYJCu3"
      },
      "outputs": [],
      "source": [
        "x_train,x_test,y_train,y_test = train_test_split(x,y,test_size=.1)"
      ]
    },
    {
      "cell_type": "markdown",
      "metadata": {
        "id": "VUG8X2HSTyGh"
      },
      "source": [
        "# Tokenizer"
      ]
    },
    {
      "cell_type": "code",
      "execution_count": 8,
      "metadata": {
        "id": "wIl8pSXRIeUd"
      },
      "outputs": [],
      "source": [
        "max_words = 500\n",
        "tokenizer = Tokenizer(num_words=max_words)\n",
        "tokenizer.fit_on_texts(x_train)\n",
        "seq = tokenizer.texts_to_sequences(x_train)\n",
        "seq_2 = tokenizer.texts_to_sequences(x_test)\n"
      ]
    },
    {
      "cell_type": "markdown",
      "metadata": {
        "id": "crxGXfC3T2-s"
      },
      "source": [
        "# Padding Sequences"
      ]
    },
    {
      "cell_type": "code",
      "execution_count": 9,
      "metadata": {
        "id": "AUk7zHxyIjvC"
      },
      "outputs": [],
      "source": [
        "max_len = 100\n",
        "padded_docs = pad_sequences(seq,padding='pre',maxlen = max_len)\n",
        "padded_docs2 = pad_sequences(seq_2,padding='pre',maxlen = max_len)\n"
      ]
    },
    {
      "cell_type": "markdown",
      "metadata": {
        "id": "V3KodewcT7y4"
      },
      "source": [
        "# Model"
      ]
    },
    {
      "cell_type": "code",
      "execution_count": 14,
      "metadata": {
        "id": "-VyqpTlGJl1l"
      },
      "outputs": [],
      "source": [
        "model = keras.Sequential()\n",
        "model.add(Embedding(max_words,30,input_length=max_len))\n",
        "model.add(LSTM(256))\n",
        "model.add(Dense(124,activation=\"relu\"))\n",
        "model.add(keras.layers.Dropout(.4))\n",
        "model.add(Dense(124,activation=\"relu\"))\n",
        "model.add(keras.layers.Dropout(.4))\n",
        "model.add(Dense(124,activation=\"relu\"))\n",
        "model.add(keras.layers.Dropout(.4))\n",
        "model.add(Dense(1,activation=\"sigmoid\"))"
      ]
    },
    {
      "cell_type": "markdown",
      "metadata": {
        "id": "XETYh85YT98x"
      },
      "source": [
        "# Compile Model"
      ]
    },
    {
      "cell_type": "code",
      "execution_count": 15,
      "metadata": {
        "id": "0YKzJTaNKEGA"
      },
      "outputs": [],
      "source": [
        "model.compile(optimizer=\"adam\",loss=\"binary_crossentropy\",metrics=['accuracy'])"
      ]
    },
    {
      "cell_type": "code",
      "execution_count": 16,
      "metadata": {
        "colab": {
          "base_uri": "https://localhost:8080/"
        },
        "id": "d2h5lwT_LZND",
        "outputId": "2f669da0-345a-44fe-fc85-efc840ccbf69"
      },
      "outputs": [
        {
          "name": "stdout",
          "output_type": "stream",
          "text": [
            "Model: \"sequential_1\"\n",
            "_________________________________________________________________\n",
            " Layer (type)                Output Shape              Param #   \n",
            "=================================================================\n",
            " embedding_1 (Embedding)     (None, 100, 30)           15000     \n",
            "                                                                 \n",
            " lstm_1 (LSTM)               (None, 256)               293888    \n",
            "                                                                 \n",
            " dense_1 (Dense)             (None, 124)               31868     \n",
            "                                                                 \n",
            " dropout (Dropout)           (None, 124)               0         \n",
            "                                                                 \n",
            " dense_2 (Dense)             (None, 124)               15500     \n",
            "                                                                 \n",
            " dropout_1 (Dropout)         (None, 124)               0         \n",
            "                                                                 \n",
            " dense_3 (Dense)             (None, 124)               15500     \n",
            "                                                                 \n",
            " dropout_2 (Dropout)         (None, 124)               0         \n",
            "                                                                 \n",
            " dense_4 (Dense)             (None, 1)                 125       \n",
            "                                                                 \n",
            "=================================================================\n",
            "Total params: 371881 (1.42 MB)\n",
            "Trainable params: 371881 (1.42 MB)\n",
            "Non-trainable params: 0 (0.00 Byte)\n",
            "_________________________________________________________________\n"
          ]
        }
      ],
      "source": [
        "model.summary()"
      ]
    },
    {
      "cell_type": "markdown",
      "metadata": {
        "id": "NDzWVJ5LUBDf"
      },
      "source": [
        "# Train Model"
      ]
    },
    {
      "cell_type": "code",
      "execution_count": 17,
      "metadata": {
        "colab": {
          "base_uri": "https://localhost:8080/"
        },
        "id": "ed6rMS1FLo7t",
        "outputId": "1b0bf90a-0386-423a-acd0-19baf8102432"
      },
      "outputs": [
        {
          "name": "stdout",
          "output_type": "stream",
          "text": [
            "Epoch 1/50\n",
            "10/10 [==============================] - 6s 156ms/step - loss: 0.5964 - accuracy: 0.8147 - val_loss: 0.3849 - val_accuracy: 0.8674\n",
            "Epoch 2/50\n",
            "10/10 [==============================] - 1s 108ms/step - loss: 0.4288 - accuracy: 0.8658 - val_loss: 0.3869 - val_accuracy: 0.8674\n",
            "Epoch 3/50\n",
            "10/10 [==============================] - 1s 63ms/step - loss: 0.3967 - accuracy: 0.8658 - val_loss: 0.3767 - val_accuracy: 0.8674\n",
            "Epoch 4/50\n",
            "10/10 [==============================] - 1s 64ms/step - loss: 0.3479 - accuracy: 0.8658 - val_loss: 0.2628 - val_accuracy: 0.8674\n",
            "Epoch 5/50\n",
            "10/10 [==============================] - 0s 51ms/step - loss: 0.2088 - accuracy: 0.8658 - val_loss: 0.1653 - val_accuracy: 0.8674\n",
            "Epoch 6/50\n",
            "10/10 [==============================] - 1s 66ms/step - loss: 0.1528 - accuracy: 0.8899 - val_loss: 0.1389 - val_accuracy: 0.9785\n",
            "Epoch 7/50\n",
            "10/10 [==============================] - 0s 50ms/step - loss: 0.1010 - accuracy: 0.9765 - val_loss: 0.0807 - val_accuracy: 0.9767\n",
            "Epoch 8/50\n",
            "10/10 [==============================] - 0s 50ms/step - loss: 0.0581 - accuracy: 0.9834 - val_loss: 0.0695 - val_accuracy: 0.9857\n",
            "Epoch 9/50\n",
            "10/10 [==============================] - 1s 56ms/step - loss: 0.0489 - accuracy: 0.9858 - val_loss: 0.0555 - val_accuracy: 0.9857\n",
            "Epoch 10/50\n",
            "10/10 [==============================] - 1s 72ms/step - loss: 0.0387 - accuracy: 0.9880 - val_loss: 0.0603 - val_accuracy: 0.9785\n",
            "Epoch 11/50\n",
            "10/10 [==============================] - 1s 57ms/step - loss: 0.0334 - accuracy: 0.9902 - val_loss: 0.0652 - val_accuracy: 0.9857\n",
            "Epoch 12/50\n",
            "10/10 [==============================] - 0s 42ms/step - loss: 0.0293 - accuracy: 0.9912 - val_loss: 0.0634 - val_accuracy: 0.9785\n",
            "Epoch 13/50\n",
            "10/10 [==============================] - 1s 58ms/step - loss: 0.0235 - accuracy: 0.9924 - val_loss: 0.0641 - val_accuracy: 0.9839\n",
            "Epoch 14/50\n",
            "10/10 [==============================] - 0s 41ms/step - loss: 0.0214 - accuracy: 0.9942 - val_loss: 0.0688 - val_accuracy: 0.9803\n",
            "Epoch 15/50\n",
            "10/10 [==============================] - 0s 50ms/step - loss: 0.0189 - accuracy: 0.9950 - val_loss: 0.0725 - val_accuracy: 0.9785\n",
            "Epoch 16/50\n",
            "10/10 [==============================] - 0s 42ms/step - loss: 0.0162 - accuracy: 0.9950 - val_loss: 0.0848 - val_accuracy: 0.9767\n",
            "Epoch 17/50\n",
            "10/10 [==============================] - 1s 57ms/step - loss: 0.0168 - accuracy: 0.9958 - val_loss: 0.0799 - val_accuracy: 0.9821\n",
            "Epoch 18/50\n",
            "10/10 [==============================] - 1s 53ms/step - loss: 0.0143 - accuracy: 0.9972 - val_loss: 0.0827 - val_accuracy: 0.9767\n",
            "Epoch 19/50\n",
            "10/10 [==============================] - 0s 45ms/step - loss: 0.0110 - accuracy: 0.9970 - val_loss: 0.0842 - val_accuracy: 0.9785\n",
            "Epoch 20/50\n",
            "10/10 [==============================] - 0s 50ms/step - loss: 0.0100 - accuracy: 0.9974 - val_loss: 0.0972 - val_accuracy: 0.9767\n",
            "Epoch 21/50\n",
            "10/10 [==============================] - 1s 58ms/step - loss: 0.0091 - accuracy: 0.9984 - val_loss: 0.0968 - val_accuracy: 0.9803\n",
            "Epoch 22/50\n",
            "10/10 [==============================] - 0s 42ms/step - loss: 0.0072 - accuracy: 0.9988 - val_loss: 0.1027 - val_accuracy: 0.9821\n",
            "Epoch 23/50\n",
            "10/10 [==============================] - 0s 41ms/step - loss: 0.0060 - accuracy: 0.9988 - val_loss: 0.1181 - val_accuracy: 0.9785\n",
            "Epoch 24/50\n",
            "10/10 [==============================] - 1s 67ms/step - loss: 0.0050 - accuracy: 0.9992 - val_loss: 0.1330 - val_accuracy: 0.9785\n",
            "Epoch 25/50\n",
            "10/10 [==============================] - 0s 45ms/step - loss: 0.0056 - accuracy: 0.9992 - val_loss: 0.1428 - val_accuracy: 0.9785\n",
            "Epoch 26/50\n",
            "10/10 [==============================] - 1s 65ms/step - loss: 0.0048 - accuracy: 0.9996 - val_loss: 0.1467 - val_accuracy: 0.9767\n",
            "Epoch 27/50\n",
            "10/10 [==============================] - 1s 55ms/step - loss: 0.0050 - accuracy: 0.9990 - val_loss: 0.1400 - val_accuracy: 0.9803\n",
            "Epoch 28/50\n",
            "10/10 [==============================] - 1s 63ms/step - loss: 0.0111 - accuracy: 0.9964 - val_loss: 0.1312 - val_accuracy: 0.9767\n",
            "Epoch 29/50\n",
            "10/10 [==============================] - 0s 42ms/step - loss: 0.0091 - accuracy: 0.9968 - val_loss: 0.1313 - val_accuracy: 0.9785\n",
            "Epoch 30/50\n",
            "10/10 [==============================] - 0s 42ms/step - loss: 0.0061 - accuracy: 0.9984 - val_loss: 0.1308 - val_accuracy: 0.9785\n",
            "Epoch 31/50\n",
            "10/10 [==============================] - 0s 41ms/step - loss: 0.0061 - accuracy: 0.9978 - val_loss: 0.1391 - val_accuracy: 0.9749\n",
            "Epoch 32/50\n",
            "10/10 [==============================] - 0s 42ms/step - loss: 0.0050 - accuracy: 0.9992 - val_loss: 0.1382 - val_accuracy: 0.9767\n",
            "Epoch 33/50\n",
            "10/10 [==============================] - 0s 42ms/step - loss: 0.0033 - accuracy: 0.9992 - val_loss: 0.1425 - val_accuracy: 0.9767\n",
            "Epoch 34/50\n",
            "10/10 [==============================] - 0s 46ms/step - loss: 0.0034 - accuracy: 0.9996 - val_loss: 0.1455 - val_accuracy: 0.9767\n",
            "Epoch 35/50\n",
            "10/10 [==============================] - 0s 42ms/step - loss: 0.0036 - accuracy: 0.9990 - val_loss: 0.1534 - val_accuracy: 0.9767\n",
            "Epoch 36/50\n",
            "10/10 [==============================] - 1s 57ms/step - loss: 0.0038 - accuracy: 0.9994 - val_loss: 0.1577 - val_accuracy: 0.9767\n",
            "Epoch 37/50\n",
            "10/10 [==============================] - 0s 42ms/step - loss: 0.0032 - accuracy: 0.9996 - val_loss: 0.1752 - val_accuracy: 0.9767\n",
            "Epoch 38/50\n",
            "10/10 [==============================] - 0s 42ms/step - loss: 0.0038 - accuracy: 0.9992 - val_loss: 0.1605 - val_accuracy: 0.9803\n",
            "Epoch 39/50\n",
            "10/10 [==============================] - 0s 42ms/step - loss: 0.0060 - accuracy: 0.9976 - val_loss: 0.1576 - val_accuracy: 0.9803\n",
            "Epoch 40/50\n",
            "10/10 [==============================] - 0s 42ms/step - loss: 0.0071 - accuracy: 0.9974 - val_loss: 0.1723 - val_accuracy: 0.9749\n",
            "Epoch 41/50\n",
            "10/10 [==============================] - 0s 42ms/step - loss: 0.0081 - accuracy: 0.9990 - val_loss: 0.1602 - val_accuracy: 0.9785\n",
            "Epoch 42/50\n",
            "10/10 [==============================] - 0s 42ms/step - loss: 0.0110 - accuracy: 0.9964 - val_loss: 0.1430 - val_accuracy: 0.9713\n",
            "Epoch 43/50\n",
            "10/10 [==============================] - 0s 42ms/step - loss: 0.0073 - accuracy: 0.9984 - val_loss: 0.1462 - val_accuracy: 0.9749\n",
            "Epoch 44/50\n",
            "10/10 [==============================] - 0s 42ms/step - loss: 0.0053 - accuracy: 0.9992 - val_loss: 0.1586 - val_accuracy: 0.9749\n",
            "Epoch 45/50\n",
            "10/10 [==============================] - 0s 42ms/step - loss: 0.0050 - accuracy: 0.9992 - val_loss: 0.1599 - val_accuracy: 0.9749\n",
            "Epoch 46/50\n",
            "10/10 [==============================] - 0s 42ms/step - loss: 0.0034 - accuracy: 0.9994 - val_loss: 0.1647 - val_accuracy: 0.9767\n",
            "Epoch 47/50\n",
            "10/10 [==============================] - 0s 42ms/step - loss: 0.0030 - accuracy: 0.9996 - val_loss: 0.1749 - val_accuracy: 0.9731\n",
            "Epoch 48/50\n",
            "10/10 [==============================] - 0s 42ms/step - loss: 0.0030 - accuracy: 0.9994 - val_loss: 0.1757 - val_accuracy: 0.9731\n",
            "Epoch 49/50\n",
            "10/10 [==============================] - 0s 42ms/step - loss: 0.0031 - accuracy: 0.9996 - val_loss: 0.1763 - val_accuracy: 0.9767\n",
            "Epoch 50/50\n",
            "10/10 [==============================] - 0s 42ms/step - loss: 0.0030 - accuracy: 0.9994 - val_loss: 0.1797 - val_accuracy: 0.9767\n"
          ]
        }
      ],
      "source": [
        "hist = model.fit(padded_docs,y_train,epochs=50,batch_size=512,validation_data=(padded_docs2,y_test), validation_split=0.2)"
      ]
    },
    {
      "cell_type": "markdown",
      "metadata": {
        "id": "dSXg1X8JUExM"
      },
      "source": [
        "# Save Model"
      ]
    },
    {
      "cell_type": "code",
      "execution_count": 19,
      "metadata": {
        "colab": {
          "base_uri": "https://localhost:8080/"
        },
        "id": "nqfPlcpuMSrN",
        "outputId": "93b4d1d2-e1ed-4850-e07b-7805d5646af7"
      },
      "outputs": [
        {
          "name": "stderr",
          "output_type": "stream",
          "text": [
            "/usr/local/lib/python3.10/dist-packages/keras/src/engine/training.py:3103: UserWarning: You are saving your model as an HDF5 file via `model.save()`. This file format is considered legacy. We recommend using instead the native Keras format, e.g. `model.save('my_model.keras')`.\n",
            "  saving_api.save_model(\n"
          ]
        }
      ],
      "source": [
        "model.save(\"../model/spam-detection.h5\")"
      ]
    },
    {
      "cell_type": "markdown",
      "metadata": {
        "id": "nM82qY05UPHj"
      },
      "source": [
        "# Accuracy"
      ]
    },
    {
      "cell_type": "code",
      "execution_count": 20,
      "metadata": {
        "colab": {
          "base_uri": "https://localhost:8080/"
        },
        "id": "rVNdPsbKUHSq",
        "outputId": "7a1501a3-903c-4f2d-a30f-a40570d0f080"
      },
      "outputs": [
        {
          "name": "stdout",
          "output_type": "stream",
          "text": [
            "18/18 [==============================] - 0s 9ms/step - loss: 0.1797 - accuracy: 0.9767\n"
          ]
        },
        {
          "data": {
            "text/plain": [
              "[0.17969878017902374, 0.9767025113105774]"
            ]
          },
          "execution_count": 20,
          "metadata": {},
          "output_type": "execute_result"
        }
      ],
      "source": [
        "model.evaluate(padded_docs2,y_test)"
      ]
    },
    {
      "cell_type": "code",
      "execution_count": 21,
      "metadata": {
        "id": "KVsLagsyUOWw"
      },
      "outputs": [],
      "source": [
        "acc = hist.history['accuracy']\n",
        "acc_val = hist.history['val_accuracy']\n",
        "loss = hist.history['loss']\n",
        "loss_val = hist.history['val_loss']"
      ]
    },
    {
      "cell_type": "markdown",
      "metadata": {
        "id": "PVXj7e-6UbTB"
      },
      "source": [
        "# Plot"
      ]
    },
    {
      "cell_type": "code",
      "execution_count": 22,
      "metadata": {
        "colab": {
          "base_uri": "https://localhost:8080/",
          "height": 430
        },
        "id": "ZuIdXzCUhiph",
        "outputId": "495a1b8e-e264-49ba-8f65-b769024ecf90"
      },
      "outputs": [
        {
          "data": {
            "image/png": "[encoded data removed]",
            "text/plain": [
              "<Figure size 640x480 with 1 Axes>"
            ]
          },
          "metadata": {},
          "output_type": "display_data"
        }
      ],
      "source": [
        "import matplotlib.pyplot as plt\n",
        "plt.plot(acc,color=\"red\",label=\"accuracy\")\n",
        "plt.plot(acc_val,color=\"green\",label=\"validation accuracy\")\n",
        "plt.plot(loss,color=\"blue\",label=\"loss\")\n",
        "plt.plot(loss_val,color=\"orange\",label=\"validation loss\")\n",
        "plt.legend()\n",
        "plt.show()"
      ]
    },
    {
      "cell_type": "markdown",
      "metadata": {
        "id": "mPB8833hVXEh"
      },
      "source": [
        "# History"
      ]
    },
    {
      "cell_type": "code",
      "execution_count": 27,
      "metadata": {
        "colab": {
          "base_uri": "https://localhost:8080/",
          "height": 432
        },
        "id": "px9fI1XbU_SM",
        "outputId": "ac4c1d42-1487-468a-d37b-d0b55f0cb1a1"
      },
      "outputs": [
        {
          "data": {
            "image/png": "[encoded data removed]",
            "text/plain": [
              "<Figure size 640x480 with 1 Axes>"
            ]
          },
          "metadata": {},
          "output_type": "display_data"
        }
      ],
      "source": [
        "plt.plot(hist.history['val_loss'])\n",
        "plt.show()"
      ]
    }
  ],
  "metadata": {
    "accelerator": "GPU",
    "colab": {
      "gpuType": "T4",
      "provenance": []
    },
    "kernelspec": {
      "display_name": "Python 3",
      "name": "python3"
    },
    "language_info": {
      "name": "python"
    }
  },
  "nbformat": 4,
  "nbformat_minor": 0
}
